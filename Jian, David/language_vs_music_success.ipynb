{
 "cells": [
  {
   "cell_type": "code",
   "execution_count": 14,
   "metadata": {},
   "outputs": [],
   "source": [
    "import pandas as pd\n",
    "from pathlib import Path\n",
    "import numpy as np\n",
    "import scipy.stats as stats\n",
    "import requests\n",
    "from bs4 import BeautifulSoup"
   ]
  },
  {
   "cell_type": "code",
   "execution_count": 2,
   "metadata": {},
   "outputs": [],
   "source": [
    "#genius api\n",
    "genius_api_key = 'gQVkGL-wnevLS3t39UOjl1a9x3smebFPcMX6awdjS-61kw-NrQEQmWWDbNXzUWjz'\n",
    "genius_url = 'https://api.genius.com'"
   ]
  },
  {
   "cell_type": "code",
   "execution_count": 3,
   "metadata": {},
   "outputs": [
    {
     "data": {
      "text/html": [
       "<div>\n",
       "<style scoped>\n",
       "    .dataframe tbody tr th:only-of-type {\n",
       "        vertical-align: middle;\n",
       "    }\n",
       "\n",
       "    .dataframe tbody tr th {\n",
       "        vertical-align: top;\n",
       "    }\n",
       "\n",
       "    .dataframe thead th {\n",
       "        text-align: right;\n",
       "    }\n",
       "</style>\n",
       "<table border=\"1\" class=\"dataframe\">\n",
       "  <thead>\n",
       "    <tr style=\"text-align: right;\">\n",
       "      <th></th>\n",
       "      <th>Position</th>\n",
       "      <th>Artist Name</th>\n",
       "      <th>Song Name</th>\n",
       "      <th>Days</th>\n",
       "      <th>Total Streams</th>\n",
       "    </tr>\n",
       "  </thead>\n",
       "  <tbody>\n",
       "    <tr>\n",
       "      <th>0</th>\n",
       "      <td>1</td>\n",
       "      <td>Post Malone</td>\n",
       "      <td>Sunflower  SpiderMan: Into the SpiderVerse</td>\n",
       "      <td>1506</td>\n",
       "      <td>883369738</td>\n",
       "    </tr>\n",
       "    <tr>\n",
       "      <th>1</th>\n",
       "      <td>2</td>\n",
       "      <td>Juice WRLD</td>\n",
       "      <td>Lucid Dreams</td>\n",
       "      <td>1673</td>\n",
       "      <td>864832399</td>\n",
       "    </tr>\n",
       "    <tr>\n",
       "      <th>2</th>\n",
       "      <td>3</td>\n",
       "      <td>Lil Uzi Vert</td>\n",
       "      <td>XO TOUR Llif3</td>\n",
       "      <td>1853</td>\n",
       "      <td>781153024</td>\n",
       "    </tr>\n",
       "    <tr>\n",
       "      <th>3</th>\n",
       "      <td>4</td>\n",
       "      <td>J. Cole</td>\n",
       "      <td>No Role Modelz</td>\n",
       "      <td>2547</td>\n",
       "      <td>734857487</td>\n",
       "    </tr>\n",
       "    <tr>\n",
       "      <th>4</th>\n",
       "      <td>5</td>\n",
       "      <td>Post Malone</td>\n",
       "      <td>rockstar</td>\n",
       "      <td>1223</td>\n",
       "      <td>718865961</td>\n",
       "    </tr>\n",
       "  </tbody>\n",
       "</table>\n",
       "</div>"
      ],
      "text/plain": [
       "   Position    Artist Name                                   Song Name  Days  \\\n",
       "0         1   Post Malone   Sunflower  SpiderMan: Into the SpiderVerse  1506   \n",
       "1         2    Juice WRLD                                 Lucid Dreams  1673   \n",
       "2         3  Lil Uzi Vert                                XO TOUR Llif3  1853   \n",
       "3         4       J. Cole                               No Role Modelz  2547   \n",
       "4         5   Post Malone                                     rockstar  1223   \n",
       "\n",
       "   Total Streams  \n",
       "0      883369738  \n",
       "1      864832399  \n",
       "2      781153024  \n",
       "3      734857487  \n",
       "4      718865961  "
      ]
     },
     "execution_count": 3,
     "metadata": {},
     "output_type": "execute_result"
    }
   ],
   "source": [
    "spotify_songs_csv = Path(\"Resources/spotify_top_songs.csv\")\n",
    "spotify_songs_df = pd.read_csv(spotify_songs_csv)\n",
    "spotify_songs_df.drop (columns=[\"Top 10 (xTimes)\", 'Peak Position', 'Peak Position (xTimes)', 'Peak Streams', ], inplace=True)\n",
    "\n",
    "spotify_songs_df.head()"
   ]
  },
  {
   "cell_type": "code",
   "execution_count": 15,
   "metadata": {},
   "outputs": [
    {
     "name": "stdout",
     "output_type": "stream",
     "text": [
      "Title: Lucid Dreams\n",
      "Artist: Juice WRLD\n",
      "Lyrics URL: https://genius.com/Juice-wrld-lucid-dreams-lyrics\n"
     ]
    }
   ],
   "source": [
    "def genius_search_song(title):\n",
    "    headers = {'authorization': f'Bearer {genius_api_key}'}\n",
    "    genius_search = f\"{genius_url}/search\"\n",
    "    params = {'q':title}\n",
    "    genius_response = requests.get(genius_search,headers=headers, params=params)\n",
    "\n",
    "    if genius_response.status_code ==200:\n",
    "        data = genius_response.json()\n",
    "        if data[\"response\"][\"hits\"]:\n",
    "            song = data[\"response\"]['hits'][0]['result']\n",
    "            return song\n",
    "    return None\n",
    "\n",
    "song = genius_search_song(\"Lucid Dreams\")\n",
    "if song:\n",
    "    print(f'Title: {song['title']}')\n",
    "    print(f'Artist: {song['primary_artist']['name']}')\n",
    "    print(f'Lyrics URL: {song['url']}')\n",
    "\n",
    "\n",
    "else:\n",
    "    print(\"song not found\")"
   ]
  },
  {
   "cell_type": "code",
   "execution_count": null,
   "metadata": {},
   "outputs": [],
   "source": []
  },
  {
   "cell_type": "code",
   "execution_count": null,
   "metadata": {},
   "outputs": [],
   "source": []
  }
 ],
 "metadata": {
  "kernelspec": {
   "display_name": "base",
   "language": "python",
   "name": "python3"
  },
  "language_info": {
   "codemirror_mode": {
    "name": "ipython",
    "version": 3
   },
   "file_extension": ".py",
   "mimetype": "text/x-python",
   "name": "python",
   "nbconvert_exporter": "python",
   "pygments_lexer": "ipython3",
   "version": "3.12.4"
  }
 },
 "nbformat": 4,
 "nbformat_minor": 2
}
